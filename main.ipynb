{
 "cells": [
  {
   "cell_type": "code",
   "execution_count": 127,
   "id": "initial_id",
   "metadata": {
    "collapsed": true,
    "ExecuteTime": {
     "end_time": "2023-09-20T11:21:19.245917Z",
     "start_time": "2023-09-20T11:21:19.230630800Z"
    }
   },
   "outputs": [],
   "source": [
    "import csv\n",
    "f = open('dataset/survey_results_public.csv','r',encoding='utf-8')\n",
    "reader = csv.DictReader(f)"
   ]
  },
  {
   "cell_type": "code",
   "execution_count": 126,
   "outputs": [
    {
     "name": "stdout",
     "output_type": "stream",
     "text": [
      "Remote - 41.41\n",
      "In-person - 16.41\n",
      "Hybrid - 42.18\n"
     ]
    }
   ],
   "source": [
    "# Q1 - What percentage of developers are working Remote, In-person and Hybrid(some remote, some in-person) jobs in 2023? \n",
    "total_responses = 0\n",
    "jobs = {'Remote':0, 'In-person':0, 'Hybrid':0}\n",
    "for row in reader:\n",
    "    if not (row['RemoteWork'] == 'NA'):\n",
    "        total_responses += 1\n",
    "        if row['RemoteWork'] == 'Remote':\n",
    "            jobs['Remote'] += 1 \n",
    "        elif row['RemoteWork'] == 'In-person':\n",
    "            jobs['In-person'] += 1\n",
    "        elif row['RemoteWork'].startswith('Hybrid'):\n",
    "            jobs['Hybrid'] += 1\n",
    "\n",
    "for job in jobs.items():\n",
    "    percent = round((job[1]/total_responses)*100,2)\n",
    "    print(f\"{job[0]} - {percent}\")\n"
   ],
   "metadata": {
    "collapsed": false,
    "ExecuteTime": {
     "end_time": "2023-09-20T11:21:08.590912100Z",
     "start_time": "2023-09-20T11:21:04.237542500Z"
    }
   },
   "id": "556ba4dbbb80e2ab"
  },
  {
   "cell_type": "code",
   "execution_count": 128,
   "outputs": [
    {
     "name": "stdout",
     "output_type": "stream",
     "text": [
      "Other online resources (e.g., videos, blogs, forum) - 80.13\n",
      "Books / Physical media - 51.8\n",
      "School (i.e., University, College, etc) - 50.14\n",
      "Online Courses or Certification - 49.28\n",
      "On the job training - 46.06\n",
      "Colleague - 23.41\n",
      "Friend or family member - 11.33\n",
      "Coding Bootcamp - 9.81\n",
      "Hackathons (virtual or in-person) - 8.02\n",
      "Other (please specify): - 6.22\n"
     ]
    }
   ],
   "source": [
    "# Q2 - What are the most popular methods of learning to code?\n",
    "methods = {}\n",
    "total_responses = 0\n",
    "for row in reader:\n",
    "    if not (row['LearnCode'] == 'NA'):\n",
    "        total_responses += 1\n",
    "        lst = row['LearnCode'].split(';')\n",
    "        for method in lst:\n",
    "            if method not in methods:\n",
    "                methods[method] = 0\n",
    "            methods[method] += 1\n",
    "\n",
    "sorted_dict = sorted(methods.items(),key=lambda x: x[1], reverse=True)\n",
    "\n",
    "for mtd in sorted_dict:\n",
    "    percent = round((mtd[1]/total_responses)*100,2)\n",
    "    print(f'{mtd[0]} - {percent}')\n"
   ],
   "metadata": {
    "collapsed": false,
    "ExecuteTime": {
     "end_time": "2023-09-20T11:21:26.957631400Z",
     "start_time": "2023-09-20T11:21:23.016283800Z"
    }
   },
   "id": "ca3c2edb56f1d615"
  },
  {
   "cell_type": "code",
   "execution_count": 106,
   "outputs": [
    {
     "name": "stdout",
     "output_type": "stream",
     "text": [
      "Developer, full-stack - 33.48\n",
      "Developer, back-end - 17.88\n",
      "Developer, front-end - 6.6\n",
      "Developer, desktop or enterprise applications - 5.08\n",
      "Other (please specify): - 4.01\n"
     ]
    }
   ],
   "source": [
    "# Q3 - Top 5 most popular jobs in 2023?\n",
    "dev_types = {}\n",
    "for row in reader:\n",
    "    if not (row['DevType'] == 'NA'):\n",
    "        if row['DevType'] not in dev_types:\n",
    "            dev_types[row['DevType']] = 0\n",
    "        dev_types[row['DevType']] += 1\n",
    "\n",
    "total_count = sum(dev_types.values())\n",
    "top_jobs = sorted(dev_types.items(), key=lambda x: x[1],reverse=True)[:5]\n",
    "\n",
    "for top_job in top_jobs:\n",
    "    percent = round((top_job[1]/total_count)*100,2)\n",
    "    print(f'{top_job[0]} - {percent}')"
   ],
   "metadata": {
    "collapsed": false,
    "ExecuteTime": {
     "end_time": "2023-09-20T10:33:48.409198Z",
     "start_time": "2023-09-20T10:33:45.334680100Z"
    }
   },
   "id": "1b617e59915534ab"
  },
  {
   "cell_type": "code",
   "execution_count": 108,
   "outputs": [
    {
     "name": "stdout",
     "output_type": "stream",
     "text": [
      "JavaScript - 63.93\n",
      "HTML/CSS - 53.24\n",
      "Python - 49.53\n",
      "SQL - 48.91\n",
      "TypeScript - 39.06\n"
     ]
    }
   ],
   "source": [
    "# Q4 - Top 5 most popular languages in 2023?\n",
    "languages = {}\n",
    "total_responses = 0\n",
    "for row in reader:\n",
    "    if not (row['LanguageHaveWorkedWith'] == 'NA'):\n",
    "        total_responses += 1\n",
    "        lst = row['LanguageHaveWorkedWith'].split(';')\n",
    "        for lang in lst:\n",
    "            if lang not in languages:\n",
    "                languages[lang] = 0\n",
    "            languages[lang] += 1\n",
    "\n",
    "sorted_lang = sorted(languages.items(),key=lambda x: x[1],reverse=True)[:5]\n",
    "\n",
    "for l in sorted_lang:\n",
    "    percent = round((l[1]/total_responses)*100,2)\n",
    "    print(f'{l[0]} - {percent}')"
   ],
   "metadata": {
    "collapsed": false,
    "ExecuteTime": {
     "end_time": "2023-09-20T10:36:50.131265800Z",
     "start_time": "2023-09-20T10:36:47.185667800Z"
    }
   },
   "id": "545c32ca5983a085"
  },
  {
   "cell_type": "code",
   "execution_count": 112,
   "outputs": [
    {
     "name": "stdout",
     "output_type": "stream",
     "text": [
      "ChatGPT - 93.14\n",
      "Bing AI - 23.05\n",
      "WolframAlpha - 14.95\n",
      "Google Bard AI - 11.04\n",
      "Phind - 3.67\n"
     ]
    }
   ],
   "source": [
    "# Q5 - Top 5 most popular AI powered search tools in 2023?\n",
    "total_responses = 0\n",
    "ai_tools = {}\n",
    "for row in reader:\n",
    "    if not (row['AISearchHaveWorkedWith'] == 'NA'):\n",
    "        total_responses += 1\n",
    "        lst = row['AISearchHaveWorkedWith'].split(';')\n",
    "        for tool in lst:\n",
    "            if tool not in ai_tools:\n",
    "                ai_tools[tool] = 0\n",
    "            ai_tools[tool] += 1\n",
    "\n",
    "sorted_tools = sorted(ai_tools.items(),key=lambda x: x[1],reverse=True)[:5]\n",
    "\n",
    "for t in sorted_tools:\n",
    "    percent = round((t[1]/total_responses)*100,2)\n",
    "    print(f'{t[0]} - {percent}')"
   ],
   "metadata": {
    "collapsed": false,
    "ExecuteTime": {
     "end_time": "2023-09-20T10:40:44.245930900Z",
     "start_time": "2023-09-20T10:40:41.444388900Z"
    }
   },
   "id": "7dc469c4f42037cd"
  },
  {
   "cell_type": "code",
   "execution_count": 129,
   "outputs": [],
   "source": [
    "f.close()"
   ],
   "metadata": {
    "collapsed": false,
    "ExecuteTime": {
     "end_time": "2023-09-20T11:21:55.526596200Z",
     "start_time": "2023-09-20T11:21:55.479685900Z"
    }
   },
   "id": "6f3d5cd63e997657"
  },
  {
   "cell_type": "code",
   "execution_count": null,
   "outputs": [],
   "source": [],
   "metadata": {
    "collapsed": false
   },
   "id": "4da60839ae9a3600"
  }
 ],
 "metadata": {
  "kernelspec": {
   "display_name": "Python 3",
   "language": "python",
   "name": "python3"
  },
  "language_info": {
   "codemirror_mode": {
    "name": "ipython",
    "version": 2
   },
   "file_extension": ".py",
   "mimetype": "text/x-python",
   "name": "python",
   "nbconvert_exporter": "python",
   "pygments_lexer": "ipython2",
   "version": "2.7.6"
  }
 },
 "nbformat": 4,
 "nbformat_minor": 5
}
